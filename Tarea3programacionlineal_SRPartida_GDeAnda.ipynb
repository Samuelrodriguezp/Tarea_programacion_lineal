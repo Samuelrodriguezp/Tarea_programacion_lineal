{
 "cells": [
  {
   "cell_type": "markdown",
   "metadata": {},
   "source": [
    "<img style=\"float: left; margin: 30px 15px 15px 15px;\" src=\"https://encrypted-tbn0.gstatic.com/images?q=tbn:ANd9GcTFzQj91sOlkeDFkg5HDbjtR4QJYmLXkfMNig&usqp=CAU\" width=\"400\" height=\"500\" /> \n",
    "    \n",
    "    \n",
    "### <font color='navy'> Simulación matemática. \n",
    "\n",
    "**Nombres:** Samuel Rodríguez Partida | Gustavo de Anda Madrigal\n",
    "\n",
    "**Fecha:** 11 de septiembre del 2022.\n",
    "\n",
    "**Expediente** : ic727594  | 742126 \n",
    "    \n",
    "**Profesor:** Oscar David Jaramillo Zuluaga.\n",
    "    \n",
    "**Link Github**: https://github.com/Samuelrodriguezp\n",
    "\n",
    "# Tarea 3: Clase 5"
   ]
  },
  {
   "cell_type": "markdown",
   "metadata": {},
   "source": [
    "## Enunciado de tarea \n"
   ]
  },
  {
   "cell_type": "markdown",
   "metadata": {},
   "source": [
    "## 8. Tarea \n",
    "\n",
    "### 8.1. Otro problema de transporte\n",
    "\n",
    "La empresa Carbones de oriente debe ingresar a la empresa un requerimiento mínimo diario de carbón de $5000$ kg de carbón de alto volátil, $4000$ kg de medio volátil y $3000$ kg de bajo volátil para su debido proceso y trasformación. \n",
    "\n",
    "La entrada de estos se da en la siguiente tabla (los valores corresponden a un viaje en kg): \n",
    "\n",
    "-|Alto volátil|Medio volátil|Bajo volátil\n",
    ":----|----|----|----\n",
    "Mina sur|80|70|65\n",
    "Mina norte|60|50|40\n",
    "Mina central|40|30|20\n",
    "\n",
    "El costo del trasporte de un viaje de cada mina es de 2500 dólares, 1500 dólares y 900 dólares, respectivamente. ¿Cuántos viajes de cada mina se deben recibir a diario para suplir los requerimientos mínimos y generar el menor costo de transporte? \n",
    "\n",
    "Para simplificar la notación use las siguientes variables: \n",
    "\n",
    "+ $x_1:$ Cantidad de viajes de la mina sur  \n",
    "+ $x_2:$ Cantidad de viajes de la mina norte  \n",
    "+ $x_3:$ Cantidad de viajes de la mina central  \n",
    "\n",
    "\n",
    "El objetivo consiste consiste en plantear el problema de programación lineal que permita satisfacer los requerimientos de la empresa Carbones de oriente y resolverlo con `linprog`."
   ]
  },
  {
   "cell_type": "markdown",
   "metadata": {},
   "source": [
    "### 8.2. \n",
    "Una empresa de muebles rústicos fabrica entre muchos otros productos cinco tipos de sillas A, B, C, D Y E, las cuales se venden a precio de $1100$, $1300$, $1200$, $980$ y $1010$ pesos cada una y respectivamente. \n",
    "\n",
    "Las sillas pasan por cinco procesos: corte, ensamblado, lijado, pintado y sellado, para lo cual se dispone máximo de $17$, $11$, $15$, $12$ y $14$ horas respectivamente a la semana para dedicar a estas operaciones a estos productos.\n",
    "\n",
    "Los requerimientos, en horas, para cada una de las sillas está dado en la siguiente tabla:\n",
    "\n",
    "-|Corte|Ensamblado|Lijado|Pintado|Sellado\n",
    ":----|----|----|----|----|----\n",
    "Silla A|3|1|3|1|1\n",
    "Silla B|2|3|2|2|3\n",
    "Silla C|5|2|2|3|1\n",
    "Silla D|2|4|1|1|2\n",
    "Silla E|1|0|2|2|3\n",
    "\n",
    "¿Cuántas sillas de cada tipo se deben fabricar para suplir los requerimientos de disponibiladas semanal y generar la mayor utilidad en ventas? \n",
    "\n",
    "Para simplificar la notación use las siguientes variables: \n",
    "\n",
    "+ $x_A:$ Cantidad de sillas tipo A \n",
    "+ $x_B:$ Cantidad de sillas tipo B \n",
    "+ $x_C:$ Cantidad de sillas tipo C \n",
    "+ $x_D:$ Cantidad de sillas tipo D  \n",
    "+ $x_E:$ Cantidad de sillas tipo E\n",
    "\n",
    "\n",
    "El objetivo consiste consiste en plantear el problemade programación lineal que permita satisfacer los requerimientos de la empresa empresa de muebles y resolverlo con `linprog`.\n"
   ]
  },
  {
   "cell_type": "markdown",
   "metadata": {},
   "source": [
    "## Problema 1. Código de solución estudiante 1"
   ]
  },
  {
   "cell_type": "code",
   "execution_count": 7,
   "metadata": {},
   "outputs": [
    {
     "data": {
      "text/plain": [
       "     con: array([], dtype=float64)\n",
       "     fun: 119999.99999999999\n",
       " message: 'Optimization terminated successfully.'\n",
       "     nit: 4\n",
       "   slack: array([ 0.00000000e+00, -4.54747351e-13,  0.00000000e+00])\n",
       "  status: 0\n",
       " success: True\n",
       "       x: array([ 0., 50., 50.])"
      ]
     },
     "execution_count": 7,
     "metadata": {},
     "output_type": "execute_result"
    }
   ],
   "source": [
    "# Código de solución estudiante 1\n",
    "#importar paquetes \n",
    "\n",
    "import numpy as np\n",
    "import scipy.optimize as opt\n",
    "\n",
    "# Matrices y cotas\n",
    "c = np.array([2500,1500,900])\n",
    "b = np.array([-5000,-4000,-3000])\n",
    "A = np.array([[-80,-60,-40],\n",
    "             [-70,-50,-30],\n",
    "             [-65,-40,-20]])\n",
    "# Resolver\n",
    "sol_viajes = opt.linprog(c,A,b,method='simplex')\n",
    "# Mostrar resultado\n",
    "sol_viajes"
   ]
  },
  {
   "cell_type": "markdown",
   "metadata": {},
   "source": [
    "### Respuesta planteada en el ejercicio\n",
    " \n",
    "**¿Cuántos viajes de cada mina se deben recibir a diario para suplir los requerimientos mínimos y generar el menor costo de transporte?**\n",
    "- cero viajes de la mina sur para suplir los requerimientos mínimos y minimizar el costo.\n",
    "- 50 viajes de la mina norte para suplir los requerimientos mínimos y minimizar el costo.\n",
    "- 50 viajes de la mina central para suplir los requerimientos mínimos y minimizar el costo."
   ]
  },
  {
   "cell_type": "markdown",
   "metadata": {},
   "source": [
    "## Problema 1. Código de solución estudiante 2."
   ]
  },
  {
   "cell_type": "markdown",
   "metadata": {},
   "source": [
    "Fórmula de costo:\n",
    "\n",
    "$$min_(x_1,x_2,x_3) 2,500x_1 + 1,500x_2 + 900x_3$$\n",
    "\n",
    "Restricciones:\n",
    "\n",
    "$$ 80x_1 + 60x_2 +40x_3 ≥ 5000$$\n",
    "$$ 70x_1 + 50x_2 +30x_3 ≥ 4000$$\n",
    "$$ 65x_1 + 40x_2 +20x_3 ≥ 3000$$"
   ]
  },
  {
   "cell_type": "code",
   "execution_count": 4,
   "metadata": {
    "scrolled": true
   },
   "outputs": [
    {
     "data": {
      "text/plain": [
       "(array([2500, 1500,  900]),\n",
       " array([[-80, -60, -40],\n",
       "        [-70, -50, -30],\n",
       "        [-65, -40, -20]]),\n",
       " array([-5000, -4000, -3000]))"
      ]
     },
     "execution_count": 4,
     "metadata": {},
     "output_type": "execute_result"
    }
   ],
   "source": [
    "#Importo lo necesario\n",
    "import numpy as np\n",
    "import scipy.optimize as opt\n",
    "#Establezco mis matrices\n",
    "\n",
    "c= np.array([2500,1500,900])\n",
    "A= np.array([[-80,-60,-40],\n",
    "   [-70,-50,-30],\n",
    "   [-65,-40,-20]])\n",
    "b= np.array([-5000,-4000,-3000])\n",
    "\n",
    "c,A,b"
   ]
  },
  {
   "cell_type": "code",
   "execution_count": 7,
   "metadata": {},
   "outputs": [
    {
     "data": {
      "text/plain": [
       "     con: array([], dtype=float64)\n",
       "     fun: 119999.99999999999\n",
       " message: 'Optimization terminated successfully.'\n",
       "     nit: 4\n",
       "   slack: array([ 0.00000000e+00, -4.54747351e-13,  0.00000000e+00])\n",
       "  status: 0\n",
       " success: True\n",
       "       x: array([ 0., 50., 50.])"
      ]
     },
     "execution_count": 7,
     "metadata": {},
     "output_type": "execute_result"
    }
   ],
   "source": [
    "#Resuevlo con linprog\n",
    "sol_mina2 = opt.linprog (c,A,b,method=\"simplex\")\n",
    "sol_mina2"
   ]
  },
  {
   "cell_type": "markdown",
   "metadata": {},
   "source": [
    "*Así nuestro procedimiento nos arroja"
   ]
  },
  {
   "cell_type": "markdown",
   "metadata": {},
   "source": [
    "## Código de solución estudiante 2"
   ]
  },
  {
   "cell_type": "code",
   "execution_count": 8,
   "metadata": {},
   "outputs": [
    {
     "data": {
      "text/plain": [
       "(array([-1100, -1300, -1200,  -980, -1010]),\n",
       " array([17, 11, 15, 12, 14]),\n",
       " array([[3, 2, 5, 2, 1],\n",
       "        [1, 3, 2, 4, 0],\n",
       "        [3, 2, 2, 1, 2],\n",
       "        [1, 2, 3, 1, 2],\n",
       "        [1, 3, 1, 2, 3]]))"
      ]
     },
     "execution_count": 8,
     "metadata": {},
     "output_type": "execute_result"
    }
   ],
   "source": [
    "# Objetivo: ¿Cuántas sillas de cada tipo se deben fabricar para suplir los requerimientos de disponibiladas semanal y generar la mayor utilidad en ventas? \n",
    "\n",
    "#¿Cuáles serán mis variables? #Número de sillas por cada tipo\n",
    "\n",
    "import numpy as np\n",
    "import scipy.optimize as opt\n",
    "\n",
    "#Ya hecho mi análisis declararé mis matrices\n",
    "#Mi matriz c será negativa p\n",
    "c = -np.array([1100,1300,1200,980,1010])\n",
    "b = np.array([17,11,15,12,14])\n",
    "a = np.array([[3,2,5,2,1,],\n",
    "             [1,3,2,4,0],\n",
    "             [3,2,2,1,2],\n",
    "             [1,2,3,1,2],\n",
    "             [1,3,1,2,3]])\n",
    "c , b, a \n",
    "\n",
    "\n",
    "\n",
    "\n",
    "\n"
   ]
  },
  {
   "cell_type": "code",
   "execution_count": 9,
   "metadata": {},
   "outputs": [
    {
     "data": {
      "text/plain": [
       "     con: array([], dtype=float64)\n",
       "     fun: -7700.0\n",
       " message: 'Optimization terminated successfully.'\n",
       "     nit: 6\n",
       "   slack: array([0.00000000e+00, 0.00000000e+00, 3.55271368e-15, 0.00000000e+00,\n",
       "       0.00000000e+00])\n",
       "  status: 0\n",
       " success: True\n",
       "       x: array([2., 1., 1., 1., 2.])"
      ]
     },
     "execution_count": 9,
     "metadata": {},
     "output_type": "execute_result"
    }
   ],
   "source": [
    "\n",
    "#Resolver\n",
    "sol_sillas = opt.linprog(c,a,b,method=\"simplex\")\n",
    "#Mostrar resultado\n",
    "sol_sillas"
   ]
  },
  {
   "cell_type": "markdown",
   "metadata": {},
   "source": [
    "### Respuesta planteada en el ejercicio.\n",
    " \n",
    " **Problema 1: Deben realizarse:**\n",
    " - 0 viajes a la mina sur\n",
    " - 50 viajes a la mina norte\n",
    " - 50 viajes a la mina central\n",
    " \n",
    "**Problema 2: Deben producirse:**\n",
    " - 2 sillas tipo A\n",
    " - 1 silla tipo B\n",
    " - 1 silla tipo C\n",
    " - 1 silla tipo D\n",
    " - 2 sillas tipo E"
   ]
  },
  {
   "cell_type": "code",
   "execution_count": null,
   "metadata": {},
   "outputs": [],
   "source": []
  }
 ],
 "metadata": {
  "kernelspec": {
   "display_name": "Python 3 (ipykernel)",
   "language": "python",
   "name": "python3"
  },
  "language_info": {
   "codemirror_mode": {
    "name": "ipython",
    "version": 3
   },
   "file_extension": ".py",
   "mimetype": "text/x-python",
   "name": "python",
   "nbconvert_exporter": "python",
   "pygments_lexer": "ipython3",
   "version": "3.9.12"
  }
 },
 "nbformat": 4,
 "nbformat_minor": 2
}
